{
 "cells": [
  {
   "cell_type": "markdown",
   "metadata": {},
   "source": [
    "# **Índice de Sentimento V1**"
   ]
  },
  {
   "cell_type": "code",
   "execution_count": 2,
   "metadata": {},
   "outputs": [],
   "source": [
    "import numpy as np\n",
    "import pandas as pd\n",
    "import os"
   ]
  },
  {
   "cell_type": "code",
   "execution_count": null,
   "metadata": {},
   "outputs": [],
   "source": []
  },
  {
   "cell_type": "markdown",
   "metadata": {},
   "source": [
    "## *Sentimentos*"
   ]
  },
  {
   "cell_type": "code",
   "execution_count": 3,
   "metadata": {},
   "outputs": [
    {
     "data": {
      "text/html": [
       "<div>\n",
       "<style scoped>\n",
       "    .dataframe tbody tr th:only-of-type {\n",
       "        vertical-align: middle;\n",
       "    }\n",
       "\n",
       "    .dataframe tbody tr th {\n",
       "        vertical-align: top;\n",
       "    }\n",
       "\n",
       "    .dataframe thead th {\n",
       "        text-align: right;\n",
       "    }\n",
       "</style>\n",
       "<table border=\"1\" class=\"dataframe\">\n",
       "  <thead>\n",
       "    <tr style=\"text-align: right;\">\n",
       "      <th></th>\n",
       "      <th>Data</th>\n",
       "      <th>Notícia</th>\n",
       "      <th>Sentimento</th>\n",
       "      <th>Score</th>\n",
       "      <th>Score Signal</th>\n",
       "    </tr>\n",
       "  </thead>\n",
       "  <tbody>\n",
       "    <tr>\n",
       "      <th>0</th>\n",
       "      <td>2024-09-03</td>\n",
       "      <td>Unipar e MELVER estão com inscrições abertas p...</td>\n",
       "      <td>NEUTRAL</td>\n",
       "      <td>0.700441</td>\n",
       "      <td>0.000000</td>\n",
       "    </tr>\n",
       "    <tr>\n",
       "      <th>1</th>\n",
       "      <td>2024-09-03</td>\n",
       "      <td>Mercado financeiro hoje: Vale (VALE3) em busca...</td>\n",
       "      <td>NEGATIVE</td>\n",
       "      <td>0.515265</td>\n",
       "      <td>-0.515265</td>\n",
       "    </tr>\n",
       "    <tr>\n",
       "      <th>2</th>\n",
       "      <td>2024-09-03</td>\n",
       "      <td>Briga entre X e STF pode afastar investidores ...</td>\n",
       "      <td>NEGATIVE</td>\n",
       "      <td>0.850306</td>\n",
       "      <td>-0.850306</td>\n",
       "    </tr>\n",
       "    <tr>\n",
       "      <th>3</th>\n",
       "      <td>2024-09-03</td>\n",
       "      <td>Podcast | Fechamento de Mercado - 03/09/2024</td>\n",
       "      <td>NEUTRAL</td>\n",
       "      <td>0.614209</td>\n",
       "      <td>0.000000</td>\n",
       "    </tr>\n",
       "    <tr>\n",
       "      <th>4</th>\n",
       "      <td>2024-09-03</td>\n",
       "      <td>Comentario semanal - Perspectivas</td>\n",
       "      <td>NEUTRAL</td>\n",
       "      <td>0.610426</td>\n",
       "      <td>0.000000</td>\n",
       "    </tr>\n",
       "    <tr>\n",
       "      <th>...</th>\n",
       "      <td>...</td>\n",
       "      <td>...</td>\n",
       "      <td>...</td>\n",
       "      <td>...</td>\n",
       "      <td>...</td>\n",
       "    </tr>\n",
       "    <tr>\n",
       "      <th>84846</th>\n",
       "      <td>2024-09-03</td>\n",
       "      <td>Bolsa recua com peso da Vale e dados nos EUA; ...</td>\n",
       "      <td>NEGATIVE</td>\n",
       "      <td>0.830644</td>\n",
       "      <td>-0.830644</td>\n",
       "    </tr>\n",
       "    <tr>\n",
       "      <th>84847</th>\n",
       "      <td>2024-09-03</td>\n",
       "      <td>PIB do Brasil cresce acima do esperado no 2º t...</td>\n",
       "      <td>POSITIVE</td>\n",
       "      <td>0.772979</td>\n",
       "      <td>0.772979</td>\n",
       "    </tr>\n",
       "    <tr>\n",
       "      <th>84848</th>\n",
       "      <td>2024-09-03</td>\n",
       "      <td>Investidores estrangeiros ingressam com R$ 10 ...</td>\n",
       "      <td>POSITIVE</td>\n",
       "      <td>0.731023</td>\n",
       "      <td>0.731023</td>\n",
       "    </tr>\n",
       "    <tr>\n",
       "      <th>84849</th>\n",
       "      <td>2024-09-03</td>\n",
       "      <td>Expert XP: como é ser um investidor de curto p...</td>\n",
       "      <td>NEUTRAL</td>\n",
       "      <td>0.667090</td>\n",
       "      <td>0.000000</td>\n",
       "    </tr>\n",
       "    <tr>\n",
       "      <th>84850</th>\n",
       "      <td>2024-09-03</td>\n",
       "      <td>Políticas do governo federal fazem PIB crescer...</td>\n",
       "      <td>NEGATIVE</td>\n",
       "      <td>0.554580</td>\n",
       "      <td>-0.554580</td>\n",
       "    </tr>\n",
       "  </tbody>\n",
       "</table>\n",
       "<p>84851 rows × 5 columns</p>\n",
       "</div>"
      ],
      "text/plain": [
       "            Data                                            Notícia  \\\n",
       "0     2024-09-03  Unipar e MELVER estão com inscrições abertas p...   \n",
       "1     2024-09-03  Mercado financeiro hoje: Vale (VALE3) em busca...   \n",
       "2     2024-09-03  Briga entre X e STF pode afastar investidores ...   \n",
       "3     2024-09-03       Podcast | Fechamento de Mercado - 03/09/2024   \n",
       "4     2024-09-03                  Comentario semanal - Perspectivas   \n",
       "...          ...                                                ...   \n",
       "84846 2024-09-03  Bolsa recua com peso da Vale e dados nos EUA; ...   \n",
       "84847 2024-09-03  PIB do Brasil cresce acima do esperado no 2º t...   \n",
       "84848 2024-09-03  Investidores estrangeiros ingressam com R$ 10 ...   \n",
       "84849 2024-09-03  Expert XP: como é ser um investidor de curto p...   \n",
       "84850 2024-09-03  Políticas do governo federal fazem PIB crescer...   \n",
       "\n",
       "      Sentimento     Score  Score Signal  \n",
       "0        NEUTRAL  0.700441      0.000000  \n",
       "1       NEGATIVE  0.515265     -0.515265  \n",
       "2       NEGATIVE  0.850306     -0.850306  \n",
       "3        NEUTRAL  0.614209      0.000000  \n",
       "4        NEUTRAL  0.610426      0.000000  \n",
       "...          ...       ...           ...  \n",
       "84846   NEGATIVE  0.830644     -0.830644  \n",
       "84847   POSITIVE  0.772979      0.772979  \n",
       "84848   POSITIVE  0.731023      0.731023  \n",
       "84849    NEUTRAL  0.667090      0.000000  \n",
       "84850   NEGATIVE  0.554580     -0.554580  \n",
       "\n",
       "[84851 rows x 5 columns]"
      ]
     },
     "execution_count": 3,
     "metadata": {},
     "output_type": "execute_result"
    }
   ],
   "source": [
    "sent = pd.read_csv('./data/news/noticias_sentimentos.csv')\n",
    "sent['Data'] = pd.to_datetime(sent['Data'], format='%Y-%m-%d')\n",
    "sent.loc[sent['Sentimento'] == 'POSITIVE', 'Score Signal'] = sent.loc[sent['Sentimento'] == 'POSITIVE', 'Score']\n",
    "sent.loc[sent['Sentimento'] == 'NEGATIVE', 'Score Signal'] = sent.loc[sent['Sentimento'] == 'NEGATIVE', 'Score'] * -1\n",
    "sent.loc[sent['Sentimento'] == 'NEUTRAL', 'Score Signal'] = 0\n",
    "sent"
   ]
  },
  {
   "cell_type": "code",
   "execution_count": null,
   "metadata": {},
   "outputs": [],
   "source": [
    "# ### Código antigo Guigas ###\n",
    "\n",
    "# sentimentos_g = []\n",
    "# sentimentos_t = []\n",
    "# for data in sent['Data'].unique():\n",
    "#     dia = sent[sent['Data'] == data]\n",
    "#     if dia['Sentimento'].value_counts().shape[0] != 1:\n",
    "#         total_dia_g = dia[dia['Sentimento'] != 'NEUTRAL']['Score'].sum() + dia[dia['Sentimento'] == 'NEUTRAL']['Score'].sum() * 0.5\n",
    "#         total_dia_t = len(dia[dia['Sentimento'] != 'NEUTRAL']) + len(dia[dia['Sentimento'] == 'NEUTRAL']) * 0.5\n",
    "#         soma_dia = dia['Score Signal'].sum()\n",
    "#         sentimentos_g.append(soma_dia/total_dia_g)\n",
    "#         sentimentos_t.append(soma_dia/total_dia_t)\n",
    "#     else:\n",
    "#         media = dia['Score Signal'].mean()\n",
    "#         sentimentos_g.append(media)         \n",
    "#         sentimentos_t.append(media)\n",
    "        \n",
    "# sentimentos_df = pd.DataFrame(sentimentos_g, index=sent['Data'].unique())\n",
    "# sentimentos_df.columns = ['Sentimento Guigas']\n",
    "# sentimentos_df['Sentimento Theozão'] = sentimentos_t\n",
    "# sentimentos_df.describe()"
   ]
  },
  {
   "cell_type": "code",
   "execution_count": null,
   "metadata": {},
   "outputs": [],
   "source": [
    "def indicador_sentimento(freq='D'):\n",
    "    def agg_score(group):\n",
    "        if group['Sentimento'].nunique() > 1:\n",
    "            signal = group['Score Signal'].sum() / group['Score Modificado'].sum()\n",
    "            return signal\n",
    "        else:\n",
    "            return group['Score Signal'].mean()\n",
    "\n",
    "    sent['Score Modificado'] = np.where(sent['Sentimento'] == \"NEUTRAL\", 0.5, 1) * sent['Score']\n",
    "    sentimentos_df = sent.resample(freq, on='Data').apply(agg_score).to_frame(name='Signal')\n",
    "    return sentimentos_df"
   ]
  },
  {
   "cell_type": "code",
   "execution_count": 6,
   "metadata": {},
   "outputs": [
    {
     "ename": "NameError",
     "evalue": "name 'sentimentos_df' is not defined",
     "output_type": "error",
     "traceback": [
      "\u001b[1;31m---------------------------------------------------------------------------\u001b[0m",
      "\u001b[1;31mNameError\u001b[0m                                 Traceback (most recent call last)",
      "Cell \u001b[1;32mIn [6], line 6\u001b[0m\n\u001b[0;32m      2\u001b[0m \u001b[38;5;28;01mimport\u001b[39;00m \u001b[38;5;21;01myfinance\u001b[39;00m \u001b[38;5;28;01mas\u001b[39;00m \u001b[38;5;21;01myf\u001b[39;00m\n\u001b[0;32m      4\u001b[0m ticker \u001b[38;5;241m=\u001b[39m \u001b[38;5;124m'\u001b[39m\u001b[38;5;124mBOVA11.SA\u001b[39m\u001b[38;5;124m'\u001b[39m\n\u001b[1;32m----> 6\u001b[0m dados \u001b[38;5;241m=\u001b[39m yf\u001b[38;5;241m.\u001b[39mdownload(ticker, start\u001b[38;5;241m=\u001b[39m\u001b[38;5;28mmin\u001b[39m(sentimentos_df\u001b[38;5;241m.\u001b[39mindex), end\u001b[38;5;241m=\u001b[39m\u001b[38;5;28mmax\u001b[39m(sentimentos_df\u001b[38;5;241m.\u001b[39mindex))[\u001b[38;5;124m'\u001b[39m\u001b[38;5;124mAdj Close\u001b[39m\u001b[38;5;124m'\u001b[39m]\n\u001b[0;32m      8\u001b[0m fig, ax \u001b[38;5;241m=\u001b[39m plt\u001b[38;5;241m.\u001b[39msubplots(figsize\u001b[38;5;241m=\u001b[39m(\u001b[38;5;241m15\u001b[39m, \u001b[38;5;241m5\u001b[39m))\n\u001b[0;32m     10\u001b[0m ax2 \u001b[38;5;241m=\u001b[39m ax\u001b[38;5;241m.\u001b[39mtwinx()\n",
      "\u001b[1;31mNameError\u001b[0m: name 'sentimentos_df' is not defined"
     ]
    }
   ],
   "source": [
    "import matplotlib.pyplot as plt\n",
    "import yfinance as yf\n",
    "\n",
    "ticker = 'BOVA11.SA'\n",
    "\n",
    "dados = yf.download(ticker, start=min(sentimentos_df.index), end=max(sentimentos_df.index))['Adj Close']\n",
    "\n",
    "fig, ax = plt.subplots(figsize=(15, 5))\n",
    "\n",
    "ax2 = ax.twinx()\n",
    "ax.plot(dados, color='black')\n",
    "ax2.plot(sentimentos_df['Signal'], color='blue')\n",
    "\n",
    "plt.show()"
   ]
  },
  {
   "cell_type": "code",
   "execution_count": 7,
   "metadata": {},
   "outputs": [
    {
     "data": {
      "text/plain": [
       "0.5745814689809325"
      ]
     },
     "execution_count": 7,
     "metadata": {},
     "output_type": "execute_result"
    }
   ],
   "source": [
    "dados_agg = dados.resample('W').mean()\n",
    "df_dados = dados_agg.to_frame().merge(sentimentos_df, left_on='Date', right_on='Data', how='left')\n",
    "df_dados['Signal'].corr(df_dados['Adj Close'])"
   ]
  },
  {
   "cell_type": "code",
   "execution_count": 10,
   "metadata": {},
   "outputs": [],
   "source": [
    "sentimentos_df.to_csv('./data/news/sentimentos.csv')"
   ]
  },
  {
   "cell_type": "markdown",
   "metadata": {},
   "source": [
    "## *Índice de Sentimento*\n",
    "\n",
    "EmotiWand = 0.25(Volatilidade) + 0.25(Momentum e Volume) + 0.40(Sentimentos) + 0.10(Trends)"
   ]
  },
  {
   "cell_type": "code",
   "execution_count": 196,
   "metadata": {},
   "outputs": [],
   "source": [
    "import pandas as pd\n",
    "import numpy as np\n",
    "\n",
    "vix = pd.read_excel('./data/vix/PerformanceGraphExport.xls')\n",
    "vol = pd.read_excel('./data/vix/IVol-BR.xls')\n",
    "vol_mom = pd.read_csv('./data/momentum_vol/ibov_vol_rsi.csv')\n",
    "sent = pd.read_csv('./data/news/noticias_sentimentos.csv')\n",
    "trends = pd.read_csv('./data/trends/interesses_google.csv')"
   ]
  },
  {
   "cell_type": "code",
   "execution_count": 197,
   "metadata": {},
   "outputs": [
    {
     "name": "stdout",
     "output_type": "stream",
     "text": [
      "2014-09-08 - 2024-09-08\n"
     ]
    }
   ],
   "source": [
    "import datetime as dt\n",
    "\n",
    "vix['Data'] = pd.to_datetime(vix['Effective date '])\n",
    "vol['Data'] = vol[['year', 'month', 'day']].apply(lambda x: dt.datetime(x.iloc[0], x.iloc[1], x.iloc[2]), axis=1)\n",
    "vol_mom['Data'] = pd.to_datetime(vol_mom['Date'])\n",
    "trends['Data'] = pd.to_datetime(trends['date'])\n",
    "sent['Data'] = pd.to_datetime(sent['Data'])\n",
    "\n",
    "start = sent['Data'].min().strftime('%Y-%m-%d')\n",
    "end = sent['Data'].max().strftime('%Y-%m-%d')\n",
    "print(f'{start} - {end}')"
   ]
  },
  {
   "cell_type": "code",
   "execution_count": 198,
   "metadata": {},
   "outputs": [],
   "source": [
    "sent.loc[sent['Sentimento'] == 'POSITIVE', 'Score Signal'] = sent.loc[sent['Sentimento'] == 'POSITIVE', 'Score']\n",
    "sent.loc[sent['Sentimento'] == 'NEGATIVE', 'Score Signal'] = sent.loc[sent['Sentimento'] == 'NEGATIVE', 'Score'] * -1\n",
    "sent.loc[sent['Sentimento'] == 'NEUTRAL', 'Score Signal'] = 0\n",
    "\n",
    "def indicador_sentimento(df, freq='D'):\n",
    "    def agg_score(group):\n",
    "        if group['Sentimento'].nunique() > 1:\n",
    "            signal = group['Score Signal'].sum() / group['Score Modificado'].sum()\n",
    "            return signal\n",
    "        else:\n",
    "            return group['Score Signal'].mean()\n",
    "\n",
    "    df['Score Modificado'] = np.where(df['Sentimento'] == \"NEUTRAL\", 0.5, 1) * df['Score']\n",
    "    sentimentos_df = df.resample(freq, on='Data').apply(agg_score).to_frame(name='Signal')\n",
    "    return sentimentos_df\n",
    "\n",
    "sent = indicador_sentimento(sent)"
   ]
  },
  {
   "cell_type": "code",
   "execution_count": 199,
   "metadata": {},
   "outputs": [],
   "source": [
    "vix['ivolbr'] = vix['S&P/B3 Ibovespa VIX']\n",
    "vix_total = pd.concat([vix, vol])[['Data', 'ivolbr']].sort_values('Data')"
   ]
  },
  {
   "cell_type": "code",
   "execution_count": 200,
   "metadata": {},
   "outputs": [
    {
     "name": "stderr",
     "output_type": "stream",
     "text": [
      "C:\\Users\\Andre\\AppData\\Local\\Temp\\ipykernel_12576\\1051337680.py:5: FutureWarning: DataFrame.fillna with 'method' is deprecated and will raise in a future version. Use obj.ffill() or obj.bfill() instead.\n",
      "  df.fillna(method='ffill', inplace=True)\n",
      "C:\\Users\\Andre\\AppData\\Local\\Temp\\ipykernel_12576\\1051337680.py:6: FutureWarning: DataFrame.fillna with 'method' is deprecated and will raise in a future version. Use obj.ffill() or obj.bfill() instead.\n",
      "  df.fillna(method='bfill', inplace=True)\n"
     ]
    }
   ],
   "source": [
    "df = pd.merge_ordered(vix_total, vol_mom, on='Data', how='outer')\n",
    "df = pd.merge_ordered(df, sent, on='Data', how='outer')\n",
    "df = pd.merge_ordered(df, trends, on='Data', how='outer')\n",
    "\n",
    "df.fillna(method='ffill', inplace=True)\n",
    "df.fillna(method='bfill', inplace=True)"
   ]
  },
  {
   "cell_type": "code",
   "execution_count": 201,
   "metadata": {},
   "outputs": [
    {
     "name": "stdout",
     "output_type": "stream",
     "text": [
      "<class 'pandas.core.frame.DataFrame'>\n",
      "DatetimeIndex: 3805 entries, 2014-09-08 to 2024-09-08\n",
      "Data columns (total 5 columns):\n",
      " #   Column  Non-Null Count  Dtype  \n",
      "---  ------  --------------  -----  \n",
      " 0   ivolbr  3805 non-null   float64\n",
      " 1   RSI_14  3805 non-null   float64\n",
      " 2   Volume  3805 non-null   float64\n",
      " 3   Signal  3805 non-null   float64\n",
      " 4   trends  3805 non-null   float64\n",
      "dtypes: float64(5)\n",
      "memory usage: 178.4 KB\n"
     ]
    }
   ],
   "source": [
    "df.drop(columns=['Date', 'date'], inplace=True)\n",
    "df.set_index('Data', inplace=True)\n",
    "df['trends'] = df.drop(columns=['ivolbr', 'RSI_14', 'Volume', 'Signal']).mean(axis=1)\n",
    "df = df[['ivolbr', 'RSI_14', 'Volume', 'Signal', 'trends']]\n",
    "df = df[(df.index >= start) & (df.index <= end)]\n",
    "df.info()"
   ]
  },
  {
   "cell_type": "code",
   "execution_count": 202,
   "metadata": {},
   "outputs": [],
   "source": [
    "df = df.resample('D').mean().sort_values('Data')"
   ]
  },
  {
   "cell_type": "code",
   "execution_count": 206,
   "metadata": {},
   "outputs": [
    {
     "data": {
      "text/html": [
       "<div>\n",
       "<style scoped>\n",
       "    .dataframe tbody tr th:only-of-type {\n",
       "        vertical-align: middle;\n",
       "    }\n",
       "\n",
       "    .dataframe tbody tr th {\n",
       "        vertical-align: top;\n",
       "    }\n",
       "\n",
       "    .dataframe thead th {\n",
       "        text-align: right;\n",
       "    }\n",
       "</style>\n",
       "<table border=\"1\" class=\"dataframe\">\n",
       "  <thead>\n",
       "    <tr style=\"text-align: right;\">\n",
       "      <th></th>\n",
       "      <th>ivolbr</th>\n",
       "      <th>Volume</th>\n",
       "      <th>Signal</th>\n",
       "      <th>RSI_14</th>\n",
       "      <th>trends</th>\n",
       "      <th>Data</th>\n",
       "    </tr>\n",
       "  </thead>\n",
       "  <tbody>\n",
       "    <tr>\n",
       "      <th>251</th>\n",
       "      <td>0.086642</td>\n",
       "      <td>0.169503</td>\n",
       "      <td>0.569611</td>\n",
       "      <td>62.494222</td>\n",
       "      <td>2.810345</td>\n",
       "      <td>2015-05-17</td>\n",
       "    </tr>\n",
       "    <tr>\n",
       "      <th>252</th>\n",
       "      <td>0.043212</td>\n",
       "      <td>0.313317</td>\n",
       "      <td>0.464255</td>\n",
       "      <td>54.222463</td>\n",
       "      <td>2.810345</td>\n",
       "      <td>2015-05-18</td>\n",
       "    </tr>\n",
       "    <tr>\n",
       "      <th>253</th>\n",
       "      <td>0.074838</td>\n",
       "      <td>0.222962</td>\n",
       "      <td>0.580549</td>\n",
       "      <td>49.465619</td>\n",
       "      <td>2.810345</td>\n",
       "      <td>2015-05-19</td>\n",
       "    </tr>\n",
       "    <tr>\n",
       "      <th>254</th>\n",
       "      <td>0.160838</td>\n",
       "      <td>0.232023</td>\n",
       "      <td>0.134349</td>\n",
       "      <td>45.795663</td>\n",
       "      <td>2.810345</td>\n",
       "      <td>2015-05-20</td>\n",
       "    </tr>\n",
       "    <tr>\n",
       "      <th>255</th>\n",
       "      <td>0.169499</td>\n",
       "      <td>0.236090</td>\n",
       "      <td>0.333761</td>\n",
       "      <td>47.281883</td>\n",
       "      <td>2.810345</td>\n",
       "      <td>2015-05-21</td>\n",
       "    </tr>\n",
       "  </tbody>\n",
       "</table>\n",
       "</div>"
      ],
      "text/plain": [
       "       ivolbr    Volume    Signal     RSI_14    trends        Data\n",
       "251  0.086642  0.169503  0.569611  62.494222  2.810345  2015-05-17\n",
       "252  0.043212  0.313317  0.464255  54.222463  2.810345  2015-05-18\n",
       "253  0.074838  0.222962  0.580549  49.465619  2.810345  2015-05-19\n",
       "254  0.160838  0.232023  0.134349  45.795663  2.810345  2015-05-20\n",
       "255  0.169499  0.236090  0.333761  47.281883  2.810345  2015-05-21"
      ]
     },
     "execution_count": 206,
     "metadata": {},
     "output_type": "execute_result"
    }
   ],
   "source": [
    "import pandas as pd\n",
    "\n",
    "df = pd.read_csv('./data/indicadores/indicadores.csv')\n",
    "\n",
    "cols_to_scale = ['ivolbr', 'Volume', 'Signal']\n",
    "cols_not_to_scale = df.columns[df.columns != 'Data'][~df.columns[df.columns != 'Data'].isin(cols_to_scale)]\n",
    "\n",
    "scaled_data = []\n",
    "\n",
    "for idx in range(step-1, len(df)):\n",
    "    grupo = df.iloc[idx - step + 1:idx + 1, df.columns.get_indexer(cols_to_scale)]\n",
    "    scaled_grupo = scaler.fit_transform(grupo)\n",
    "    non_scaled_values = df.iloc[idx][cols_not_to_scale].values\n",
    "    scaled_data.append(list(scaled_grupo[-1]) + list(non_scaled_values))\n",
    "\n",
    "scaled_df = pd.DataFrame(scaled_data, columns=list(cols_to_scale) + list(cols_not_to_scale), index=df.iloc[step-1:].index)\n",
    "\n",
    "scaled_df['Data'] = df.iloc[step-1:]['Data'].values\n",
    "\n",
    "scaled_df.head()"
   ]
  },
  {
   "cell_type": "code",
   "execution_count": 207,
   "metadata": {},
   "outputs": [],
   "source": [
    "scaled_df[cols_to_scale] = scaled_df[cols_to_scale] * 100\n",
    "\n",
    "# Alterar lado\n",
    "# scaled_df[['ivolbr', 'RSI_14']] = 100 - scaled_df[['ivolbr', 'RSI_14']]"
   ]
  },
  {
   "cell_type": "code",
   "execution_count": 210,
   "metadata": {},
   "outputs": [
    {
     "data": {
      "text/html": [
       "<div>\n",
       "<style scoped>\n",
       "    .dataframe tbody tr th:only-of-type {\n",
       "        vertical-align: middle;\n",
       "    }\n",
       "\n",
       "    .dataframe tbody tr th {\n",
       "        vertical-align: top;\n",
       "    }\n",
       "\n",
       "    .dataframe thead th {\n",
       "        text-align: right;\n",
       "    }\n",
       "</style>\n",
       "<table border=\"1\" class=\"dataframe\">\n",
       "  <thead>\n",
       "    <tr style=\"text-align: right;\">\n",
       "      <th></th>\n",
       "      <th>ivolbr</th>\n",
       "      <th>Volume</th>\n",
       "      <th>Signal</th>\n",
       "      <th>RSI_14</th>\n",
       "      <th>trends</th>\n",
       "      <th>Data</th>\n",
       "    </tr>\n",
       "  </thead>\n",
       "  <tbody>\n",
       "    <tr>\n",
       "      <th>251</th>\n",
       "      <td>8.664162</td>\n",
       "      <td>16.950283</td>\n",
       "      <td>56.961117</td>\n",
       "      <td>62.494222</td>\n",
       "      <td>2.810345</td>\n",
       "      <td>2015-05-17</td>\n",
       "    </tr>\n",
       "    <tr>\n",
       "      <th>252</th>\n",
       "      <td>4.321185</td>\n",
       "      <td>31.331750</td>\n",
       "      <td>46.425522</td>\n",
       "      <td>54.222463</td>\n",
       "      <td>2.810345</td>\n",
       "      <td>2015-05-18</td>\n",
       "    </tr>\n",
       "    <tr>\n",
       "      <th>253</th>\n",
       "      <td>7.483823</td>\n",
       "      <td>22.296154</td>\n",
       "      <td>58.054924</td>\n",
       "      <td>49.465619</td>\n",
       "      <td>2.810345</td>\n",
       "      <td>2015-05-19</td>\n",
       "    </tr>\n",
       "    <tr>\n",
       "      <th>254</th>\n",
       "      <td>16.083801</td>\n",
       "      <td>23.202317</td>\n",
       "      <td>13.434859</td>\n",
       "      <td>45.795663</td>\n",
       "      <td>2.810345</td>\n",
       "      <td>2015-05-20</td>\n",
       "    </tr>\n",
       "    <tr>\n",
       "      <th>255</th>\n",
       "      <td>16.949932</td>\n",
       "      <td>23.609032</td>\n",
       "      <td>33.376132</td>\n",
       "      <td>47.281883</td>\n",
       "      <td>2.810345</td>\n",
       "      <td>2015-05-21</td>\n",
       "    </tr>\n",
       "  </tbody>\n",
       "</table>\n",
       "</div>"
      ],
      "text/plain": [
       "        ivolbr     Volume     Signal     RSI_14    trends        Data\n",
       "251   8.664162  16.950283  56.961117  62.494222  2.810345  2015-05-17\n",
       "252   4.321185  31.331750  46.425522  54.222463  2.810345  2015-05-18\n",
       "253   7.483823  22.296154  58.054924  49.465619  2.810345  2015-05-19\n",
       "254  16.083801  23.202317  13.434859  45.795663  2.810345  2015-05-20\n",
       "255  16.949932  23.609032  33.376132  47.281883  2.810345  2015-05-21"
      ]
     },
     "execution_count": 210,
     "metadata": {},
     "output_type": "execute_result"
    }
   ],
   "source": [
    "scaled_df.head()"
   ]
  },
  {
   "cell_type": "code",
   "execution_count": 211,
   "metadata": {},
   "outputs": [],
   "source": [
    "scaled_df.to_csv('./data/indicadores/indicadores_scaled.csv', index=False)"
   ]
  }
 ],
 "metadata": {
  "kernelspec": {
   "display_name": "Python 3",
   "language": "python",
   "name": "python3"
  },
  "language_info": {
   "codemirror_mode": {
    "name": "ipython",
    "version": 3
   },
   "file_extension": ".py",
   "mimetype": "text/x-python",
   "name": "python",
   "nbconvert_exporter": "python",
   "pygments_lexer": "ipython3",
   "version": "3.10.11"
  }
 },
 "nbformat": 4,
 "nbformat_minor": 2
}
