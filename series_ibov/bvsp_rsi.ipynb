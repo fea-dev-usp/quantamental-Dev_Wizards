{
 "cells": [
  {
   "cell_type": "code",
   "execution_count": 12,
   "metadata": {},
   "outputs": [],
   "source": [
    "import pandas as pd\n",
    "import yfinance as yf"
   ]
  },
  {
   "cell_type": "code",
   "execution_count": 16,
   "metadata": {},
   "outputs": [
    {
     "name": "stdout",
     "output_type": "stream",
     "text": [
      "[*********************100%***********************]  1 of 1 completed\n"
     ]
    },
    {
     "name": "stderr",
     "output_type": "stream",
     "text": [
      "C:\\Users\\loren\\AppData\\Local\\Packages\\PythonSoftwareFoundation.Python.3.10_qbz5n2kfra8p0\\LocalCache\\local-packages\\Python310\\site-packages\\yfinance\\utils.py:689: FutureWarning: The 'unit' keyword in TimedeltaIndex construction is deprecated and will be removed in a future version. Use pd.to_timedelta instead.\n",
      "  df.index += _pd.TimedeltaIndex(dst_error_hours, 'h')\n"
     ]
    }
   ],
   "source": [
    "bvsp = yf.download('^BVSP', start='2011-01-01', end='2020-12-31')\n",
    "bvsp_vol = bvsp['Volume']\n",
    "bvsp_close = bvsp['Close']\n",
    "bvsp_returns = bvsp['Close'].pct_change().dropna()"
   ]
  },
  {
   "cell_type": "code",
   "execution_count": 20,
   "metadata": {},
   "outputs": [
    {
     "name": "stdout",
     "output_type": "stream",
     "text": [
      "True\n"
     ]
    },
    {
     "data": {
      "text/plain": [
       "Date\n",
       "2011-01-04          NaN\n",
       "2011-01-05          NaN\n",
       "2011-01-06          NaN\n",
       "2011-01-07          NaN\n",
       "2011-01-10          NaN\n",
       "                ...    \n",
       "2020-12-22    70.244874\n",
       "2020-12-23    71.139128\n",
       "2020-12-28    72.056895\n",
       "2020-12-29    73.299583\n",
       "2020-12-30    72.674238\n",
       "Name: Close, Length: 2471, dtype: float64"
      ]
     },
     "execution_count": 20,
     "metadata": {},
     "output_type": "execute_result"
    }
   ],
   "source": [
    "# BVSP RSI Index\n",
    "# RSI = 100 - (100 / (1 + RS))\n",
    "# RS = Average Gain / Average Loss\n",
    "# Average Gain = Sum of gains over the past 14 periods / 14\n",
    "# Average Loss = Sum of losses over the past 14 periods / 14\n",
    "\n",
    "change = bvsp_returns\n",
    "\n",
    "change_up = change.copy()\n",
    "change_down = change.copy()\n",
    "\n",
    "change_up[change_up<0] = 0\n",
    "change_down[change_down>0] = 0\n",
    "\n",
    "# Verify that we did not make any mistakes\n",
    "print(change.equals(change_up+change_down))\n",
    "\n",
    "# Calculate the rolling average of average up and average down\n",
    "avg_up = change_up.rolling(14).mean()\n",
    "avg_down = change_down.rolling(14).mean().abs()\n",
    "\n",
    "rsi = 100 * avg_up / (avg_up + avg_down)\n",
    "\n",
    "rsi"
   ]
  },
  {
   "cell_type": "code",
   "execution_count": 21,
   "metadata": {},
   "outputs": [],
   "source": [
    "df = pd.DataFrame({'bvsp_vol': bvsp_vol, 'rsi': rsi})\n",
    "df.to_csv('bvsp_vol_rsi.csv', index=False)"
   ]
  }
 ],
 "metadata": {
  "kernelspec": {
   "display_name": "Python 3",
   "language": "python",
   "name": "python3"
  },
  "language_info": {
   "codemirror_mode": {
    "name": "ipython",
    "version": 3
   },
   "file_extension": ".py",
   "mimetype": "text/x-python",
   "name": "python",
   "nbconvert_exporter": "python",
   "pygments_lexer": "ipython3",
   "version": "3.10.11"
  }
 },
 "nbformat": 4,
 "nbformat_minor": 2
}
