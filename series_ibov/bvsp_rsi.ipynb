{
 "cells": [
  {
   "cell_type": "code",
   "execution_count": 1,
   "metadata": {},
   "outputs": [
    {
     "name": "stdout",
     "output_type": "stream",
     "text": [
      "2014-09-08 - 2024-09-08\n"
     ]
    }
   ],
   "source": [
    "import pandas as pd\n",
    "import yfinance as yf\n",
    "\n",
    "news = pd.read_csv('../data/news/noticias_sentimentos.csv')\n",
    "news['Data'] = pd.to_datetime(news['Data'])\n",
    "start = news['Data'].min().strftime('%Y-%m-%d')\n",
    "end = news['Data'].max().strftime('%Y-%m-%d')\n",
    "print(f'{start} - {end}')"
   ]
  },
  {
   "cell_type": "code",
   "execution_count": 2,
   "metadata": {},
   "outputs": [
    {
     "name": "stderr",
     "output_type": "stream",
     "text": [
      "c:\\Users\\Andre\\AppData\\Local\\Programs\\Python\\Python312\\Lib\\site-packages\\yfinance\\utils.py:775: FutureWarning: The 'unit' keyword in TimedeltaIndex construction is deprecated and will be removed in a future version. Use pd.to_timedelta instead.\n",
      "  df.index += _pd.TimedeltaIndex(dst_error_hours, 'h')\n",
      "[*********************100%%**********************]  1 of 1 completed\n"
     ]
    }
   ],
   "source": [
    "bvsp = yf.download('^BVSP', start=start, end=end)\n",
    "bvsp_vol = bvsp['Volume']\n",
    "bvsp_close = bvsp['Close']\n",
    "bvsp_returns = bvsp['Close'].pct_change().dropna()"
   ]
  },
  {
   "cell_type": "code",
   "execution_count": null,
   "metadata": {},
   "outputs": [],
   "source": [
    "import talib\n",
    "\n"
   ]
  },
  {
   "cell_type": "code",
   "execution_count": 3,
   "metadata": {},
   "outputs": [
    {
     "name": "stdout",
     "output_type": "stream",
     "text": [
      "True\n"
     ]
    },
    {
     "data": {
      "text/plain": [
       "Date\n",
       "2014-09-09          NaN\n",
       "2014-09-10          NaN\n",
       "2014-09-11          NaN\n",
       "2014-09-12          NaN\n",
       "2014-09-15          NaN\n",
       "                ...    \n",
       "2024-09-02    62.630231\n",
       "2024-09-03    55.327626\n",
       "2024-09-04    59.031232\n",
       "2024-09-05    61.489806\n",
       "2024-09-06    44.929015\n",
       "Name: Close, Length: 2480, dtype: float64"
      ]
     },
     "execution_count": 3,
     "metadata": {},
     "output_type": "execute_result"
    }
   ],
   "source": [
    "# BVSP RSI Index\n",
    "# RSI = 100 - (100 / (1 + RS))\n",
    "# RS = Average Gain / Average Loss\n",
    "# Average Gain = Sum of gains over the past 14 periods / 14\n",
    "# Average Loss = Sum of losses over the past 14 periods / 14\n",
    "\n",
    "change = bvsp_returns\n",
    "\n",
    "change_up = change.copy()\n",
    "change_down = change.copy()\n",
    "\n",
    "change_up[change_up<0] = 0\n",
    "change_down[change_down>0] = 0\n",
    "\n",
    "# Verify that we did not make any mistakes\n",
    "print(change.equals(change_up+change_down))\n",
    "\n",
    "# Calculate the rolling average of average up and average down\n",
    "avg_up = change_up.rolling(14).mean()\n",
    "avg_down = change_down.rolling(14).mean().abs()\n",
    "\n",
    "rsi = 100 * avg_up / (avg_up + avg_down)\n",
    "\n",
    "rsi"
   ]
  },
  {
   "cell_type": "code",
   "execution_count": 4,
   "metadata": {},
   "outputs": [],
   "source": [
    "df = pd.DataFrame({'bvsp_vol': bvsp_vol, 'rsi': rsi})\n",
    "df.to_csv('../data/momentum/ibov_rsi.csv', index=False)"
   ]
  }
 ],
 "metadata": {
  "kernelspec": {
   "display_name": "Python 3",
   "language": "python",
   "name": "python3"
  },
  "language_info": {
   "codemirror_mode": {
    "name": "ipython",
    "version": 3
   },
   "file_extension": ".py",
   "mimetype": "text/x-python",
   "name": "python",
   "nbconvert_exporter": "python",
   "pygments_lexer": "ipython3",
   "version": "3.12.0"
  }
 },
 "nbformat": 4,
 "nbformat_minor": 2
}
