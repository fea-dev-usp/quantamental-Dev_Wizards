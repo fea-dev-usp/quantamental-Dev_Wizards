{
 "cells": [
  {
   "cell_type": "code",
   "execution_count": 4,
   "metadata": {},
   "outputs": [],
   "source": [
    "import os\n",
    "import sqlite3\n",
    "import pandas as pd\n",
    "\n",
    "# Conexão com base local de dados\n",
    "os.chdir(os.getcwd())\n",
    "conn = sqlite3.connect(r\"C:\\databases\\assets_portfolio_pessoal.db\")\n",
    "cur = conn.cursor()\n",
    "\n",
    "ibov_close = pd.read_sql('SELECT * FROM ibov_adj_close', conn)\n",
    "ibov_close = ibov_close[(ibov_close['Date'] >= '2011-01-01') & (ibov_close['Date'] <= '2020-12-31')]\n",
    "\n",
    "ibov_vol = pd.read_sql('SELECT * FROM ibov_volume', conn)\n",
    "ibov_vol = ibov_vol[(ibov_vol['Date'] >= '2011-01-01') & (ibov_vol['Date'] <= '2020-12-31')]"
   ]
  },
  {
   "cell_type": "code",
   "execution_count": 9,
   "metadata": {},
   "outputs": [],
   "source": [
    "ibov_close.dropna(axis=1, inplace=True)\n",
    "ibov_close.to_csv('ivob_close.csv', index=False)"
   ]
  },
  {
   "cell_type": "code",
   "execution_count": 10,
   "metadata": {},
   "outputs": [],
   "source": [
    "ibov_vol.dropna(axis=1, inplace=True)\n",
    "ibov_vol.to_csv('ivob_vol.csv', index=False)"
   ]
  }
 ],
 "metadata": {
  "kernelspec": {
   "display_name": "Python 3",
   "language": "python",
   "name": "python3"
  },
  "language_info": {
   "codemirror_mode": {
    "name": "ipython",
    "version": 3
   },
   "file_extension": ".py",
   "mimetype": "text/x-python",
   "name": "python",
   "nbconvert_exporter": "python",
   "pygments_lexer": "ipython3",
   "version": "3.10.11"
  }
 },
 "nbformat": 4,
 "nbformat_minor": 2
}
