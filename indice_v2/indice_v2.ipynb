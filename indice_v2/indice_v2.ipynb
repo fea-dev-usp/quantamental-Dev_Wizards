{
 "cells": [
  {
   "cell_type": "markdown",
   "metadata": {},
   "source": [
    "$$\n",
    "HotSpots = Fechamento^{\\alpha}*Volume^{\\beta}*SENT^{\\gamma}*Volatilidade^{\\delta}*RSI^{\\theta}*Trends^{\\omega}\n",
    "$$\n",
    "\n",
    "- Sentimento deveria ser estimado em ln?\n",
    "\n",
    "**Ideia**: selecionar períodos aleatórios de rebalanceamento : série binária com 1=(data teve rebalanceamento); repetir várias vezes -->    \n",
    "Pegar as séries com melhores resultados --> rodar a regressão nessas séries e fazer média dos parâmetros ponderados por (1-pvalor)  \n",
    "Resultado: índice com melhores momentos de rebalanceamento\n",
    "\n",
    "**Ideia**: na hora de simular as carteiras com rebalançeamento em momentos aleatórios, a quantidade de rebalanceamentos (frequência) vai ser dada por uma distribuição (qui-quadrado? poisson?) --> depois, a gente vê a distribuição da frequência das carteiras mais eficientes pra saber apx a frequência ótima de rebalanceamentos --> depois roda com essa nova distribuição mais eficiente"
   ]
  },
  {
   "cell_type": "code",
   "execution_count": 102,
   "metadata": {},
   "outputs": [],
   "source": [
    "import pandas as pd\n",
    "import numpy as np\n",
    "import os\n",
    "import sqlite3\n",
    "import matplotlib.pyplot as plt\n",
    "\n",
    "from sklearn.linear_model import Ridge\n",
    "from sklearn.model_selection import train_test_split\n",
    "from sklearn.metrics import mean_squared_error"
   ]
  },
  {
   "cell_type": "code",
   "execution_count": 103,
   "metadata": {},
   "outputs": [],
   "source": [
    "sent = pd.read_csv(r'C:\\Users\\loren\\Documents\\Programação\\Github\\quantamental-Dev_Wizards\\data\\sentimentos\\noticias_sentimentos.csv')\n",
    "sent['Data'] = pd.to_datetime(sent['Data'], format='%Y-%m-%d')\n",
    "sent.loc[sent['Sentimento'] == 'POSITIVE', 'Score Signal'] = sent.loc[sent['Sentimento'] == 'POSITIVE', 'Score']\n",
    "sent.loc[sent['Sentimento'] == 'NEGATIVE', 'Score Signal'] = sent.loc[sent['Sentimento'] == 'NEGATIVE', 'Score'] * -1\n",
    "sent.loc[sent['Sentimento'] == 'NEUTRAL', 'Score Signal'] = 0"
   ]
  },
  {
   "cell_type": "code",
   "execution_count": 104,
   "metadata": {},
   "outputs": [],
   "source": [
    "def indicador_sentimento(freq='D'):\n",
    "    def agg_score(group):\n",
    "        if group['Sentimento'].nunique() > 1:\n",
    "            signal = group['Score Signal'].sum() / group['Score Modificado'].sum()\n",
    "            return signal\n",
    "        else:\n",
    "            return group['Score Signal'].mean()\n",
    "\n",
    "    sent['Score Modificado'] = np.where(sent['Sentimento'] == \"NEUTRAL\", 0.5, 1) * sent['Score']\n",
    "    sentimentos_df = sent.resample(freq, on='Data').apply(agg_score).to_frame(name='Signal')\n",
    "    return sentimentos_df\n",
    "\n",
    "sent = indicador_sentimento()"
   ]
  },
  {
   "cell_type": "code",
   "execution_count": 105,
   "metadata": {},
   "outputs": [
    {
     "name": "stdout",
     "output_type": "stream",
     "text": [
      "2014-09-08 - 2020-12-31\n"
     ]
    }
   ],
   "source": [
    "# Pegando todos os dados\n",
    "\n",
    "# SENTIMENTOS\n",
    "sent = sent.reset_index()\n",
    "sent.rename(columns={'Data': 'Date'}, inplace=True)\n",
    "sent['Date'] = pd.to_datetime(sent['Date'])\n",
    "sent = sent[(sent['Date'] >= '2014-09-08') & (sent['Date'] <= '2020-12-31')]\n",
    "\n",
    "start = sent['Date'].min().strftime('%Y-%m-%d')\n",
    "end = sent['Date'].max().strftime('%Y-%m-%d')\n",
    "print(f'{start} - {end}')\n",
    "\n",
    "# FECHAMENTO AJUSTADO\n",
    "os.chdir(os.getcwd())\n",
    "conn = sqlite3.connect(r\"C:\\databases\\portfolio_quantamental.db\")\n",
    "cur = conn.cursor()\n",
    "\n",
    "ibov_close = pd.read_sql('SELECT * FROM ibov_adj_close', conn)\n",
    "ibov_close = ibov_close[(ibov_close['Date'] >= start) & (ibov_close['Date'] <= end)]\n",
    "ibov_close['Date'] = pd.to_datetime(ibov_close['Date'])\n",
    "\n",
    "# VIX\n",
    "vix = pd.read_excel(r'C:\\Users\\loren\\Documents\\Programação\\Github\\quantamental-Dev_Wizards\\data\\vix\\PerformanceGraphExport.xls')\n",
    "vix.rename(columns={'Effective date ': 'Date'}, inplace=True)\n",
    "vix['Date'] = pd.to_datetime(vix['Date'])\n",
    "\n",
    "# RSI e VOLUME\n",
    "rsi = pd.read_csv(r'C:\\Users\\loren\\Documents\\Programação\\Github\\quantamental-Dev_Wizards\\data\\momentum_vol\\ibov_vol_rsi.csv')\n",
    "rsi['Date'] = pd.to_datetime(rsi['Date'])\n",
    "rsi = rsi[(rsi['Date'] >= start) & (rsi['Date'] <= end)]\n",
    "\n",
    "# GOOGLE TRENDS\n",
    "trends = pd.read_csv(r'C:\\Users\\loren\\Documents\\Programação\\Github\\quantamental-Dev_Wizards\\data\\trends\\interesses_google.csv')\n",
    "trends.rename(columns={'date': 'Date'}, inplace=True)\n",
    "trends['Date'] = pd.to_datetime(trends['Date'])\n",
    "trends = trends[(trends['Date'] >= start) & (trends['Date'] <= end)]\n",
    "\n",
    "# REBALANCEAMENTOS\n",
    "conn = sqlite3.connect(r\"C:\\databases\\penalized_simulations.db\")\n",
    "cur = conn.cursor()\n",
    "rebalanceamentos = pd.read_sql('SELECT * FROM simulated_portfolios', conn)\n",
    "rebalanceamentos = rebalanceamentos.T\n",
    "\n",
    "cur.close()"
   ]
  },
  {
   "cell_type": "code",
   "execution_count": 110,
   "metadata": {},
   "outputs": [
    {
     "name": "stdout",
     "output_type": "stream",
     "text": [
      "(1570, 89) (749, 2) (1558, 3) (75, 59) (1569, 30)\n"
     ]
    }
   ],
   "source": [
    "print(ibov_close.shape, vix.shape, rsi.shape, trends.shape, rebalanceamentos.shape)   "
   ]
  }
 ],
 "metadata": {
  "kernelspec": {
   "display_name": "Python 3",
   "language": "python",
   "name": "python3"
  },
  "language_info": {
   "codemirror_mode": {
    "name": "ipython",
    "version": 3
   },
   "file_extension": ".py",
   "mimetype": "text/x-python",
   "name": "python",
   "nbconvert_exporter": "python",
   "pygments_lexer": "ipython3",
   "version": "3.10.11"
  }
 },
 "nbformat": 4,
 "nbformat_minor": 2
}
