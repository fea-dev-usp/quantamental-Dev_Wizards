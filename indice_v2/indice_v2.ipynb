{
 "cells": [
  {
   "cell_type": "markdown",
   "metadata": {},
   "source": [
    "$$\n",
    "EmotiWand = Sentimento^{\\alpha}*Momentum^{\\beta}*Volume^{\\gamma}*Volatilidade^{\\delta}*Trends^{\\theta}\n",
    "$$\n",
    "Substituir EmotiWand por ibiv_close\n",
    "$$\n",
    "ln(HotSpots) = {\\alpha}*ln(Sentimentos)+{\\beta}*ln(Momentum)+{\\gamma}*ln(Volume)+{\\delta}*ln(Volatilidade)+{\\theta}*ln(Trends)\n",
    "$$\n",
    "\n",
    "- Sentimento deveria ser estimado em ln?\n",
    "- ibov_close é a melhor série pra um \"greed and fear\"?\n",
    "\n",
    "Séries de tempo podem ter cointegração --> teste de Engle-Granger, Johansen e/ou ADL/Correção de erros --> estimar parâmetros\n",
    "\n",
    "**Ideia**: selecionar períodos aleatórios de rebalanceamento : série binária com 1=(data teve rebalanceamento); repetir várias vezes -->    \n",
    "Pegar as séries com melhores resultados --> rodar a regressão nessas séries e fazer média dos parâmetros ponderados por (1-pvalor)  \n",
    "Resultado: índice com melhores momentos de rebalanceamento\n",
    "\n",
    "**Ideia**: na hora de simular as carteiras com rebalançeamento em momentos aleatórios, a quantidade de rebalanceamentos (frequência) vai ser dada por uma distribuição (qui-quadrado? poisson?) --> depois, a gente vê a distribuição da frequência das carteiras mais eficientes pra saber apx a frequência ótima de rebalanceamentos --> depois roda com essa nova distribuição mais eficiente"
   ]
  },
  {
   "cell_type": "code",
   "execution_count": 29,
   "metadata": {},
   "outputs": [],
   "source": [
    "import pandas as pd\n",
    "import numpy as np\n",
    "import os\n",
    "import sqlite3\n",
    "import matplotlib.pyplot as plt\n",
    "\n",
    "from sklearn.linear_model import Ridge\n",
    "from sklearn.model_selection import train_test_split\n",
    "from sklearn.metrics import mean_squared_error"
   ]
  },
  {
   "cell_type": "code",
   "execution_count": 30,
   "metadata": {},
   "outputs": [],
   "source": [
    "os.chdir(os.getcwd())\n",
    "conn = sqlite3.connect(r\"C:\\databases\\portfolio_quantamental.db\")\n",
    "cur = conn.cursor()\n",
    "\n",
    "ibov_close = pd.read_sql('SELECT * FROM ibov_adj_close', conn)\n",
    "ibov_close = ibov_close[(ibov_close['Date'] >= '2011-01-01') & (ibov_close['Date'] <= '2020-12-31')]\n",
    "\n",
    "ibov_vol = pd.read_sql('SELECT * FROM ibov_volume', conn)\n",
    "ibov_vol = ibov_vol[(ibov_vol['Date'] >= '2011-01-01') & (ibov_vol['Date'] <= '2020-12-31')]\n",
    "\n",
    "vix = pd.read_excel(r'C:\\Users\\loren\\Documents\\Programação\\Github\\quantamental-Dev_Wizards\\data\\vix\\PerformanceGraphExport.xls')\n",
    "vol = pd.read_excel(r'C:\\Users\\loren\\Documents\\Programação\\Github\\quantamental-Dev_Wizards\\data\\vix\\IVol-BR.xls')\n",
    "sent = pd.read_csv(r'C:\\Users\\loren\\Documents\\Programação\\Github\\quantamental-Dev_Wizards\\data\\news\\sentimentos.csv')\n",
    "trends = pd.read_csv(r'C:\\Users\\loren\\Documents\\Programação\\Github\\quantamental-Dev_Wizards\\data\\trends\\interesses_google.csv')"
   ]
  },
  {
   "cell_type": "code",
   "execution_count": 31,
   "metadata": {},
   "outputs": [],
   "source": [
    "vix.rename(columns={'Effective date ': 'Date'}, inplace=True)\n",
    "sent.rename(columns={'Data': 'Date'}, inplace=True)\n",
    "trends.rename(columns={'date': 'Date'}, inplace=True)\n",
    "\n",
    "vol['Date'] = pd.to_datetime(vol[['year', 'month', 'day']])\n",
    "vol.drop(columns=['year', 'month', 'day'], inplace=True)"
   ]
  },
  {
   "cell_type": "code",
   "execution_count": 32,
   "metadata": {},
   "outputs": [],
   "source": [
    "# Ensure the 'Date' columns are in datetime format\n",
    "ibov_close['Date'] = pd.to_datetime(ibov_close['Date'])\n",
    "ibov_vol['Date'] = pd.to_datetime(ibov_vol['Date'])\n",
    "vix['Date'] = pd.to_datetime(vix['Date'])\n",
    "vol['Date'] = pd.to_datetime(vol['Date'])\n",
    "sent['Date'] = pd.to_datetime(sent['Date'])\n",
    "trends['Date'] = pd.to_datetime(trends['Date'])"
   ]
  },
  {
   "cell_type": "code",
   "execution_count": 33,
   "metadata": {},
   "outputs": [
    {
     "name": "stdout",
     "output_type": "stream",
     "text": [
      "2014-09-14 - 2024-09-08\n"
     ]
    }
   ],
   "source": [
    "start = sent['Date'].min().strftime('%Y-%m-%d')\n",
    "end = sent['Date'].max().strftime('%Y-%m-%d')\n",
    "print(f'{start} - {end}')"
   ]
  },
  {
   "cell_type": "code",
   "execution_count": 34,
   "metadata": {},
   "outputs": [
    {
     "name": "stdout",
     "output_type": "stream",
     "text": [
      "2481 2481 749 2415 522\n"
     ]
    }
   ],
   "source": [
    "print(len(ibov_close), len(ibov_vol), len(vix), len(vol), len(sent))   "
   ]
  },
  {
   "cell_type": "code",
   "execution_count": 36,
   "metadata": {},
   "outputs": [
    {
     "name": "stdout",
     "output_type": "stream",
     "text": [
      "Empty DataFrame\n",
      "Columns: [Date, ibov_close, ibov_vol, vix, vol, sent_score]\n",
      "Index: []\n"
     ]
    }
   ],
   "source": [
    "# Merge the dataframes on the date columns\n",
    "merged_df = ibov_close[['Date', 'BBAS3.SA']].merge(\n",
    "    ibov_vol[['Date', 'BBAS3.SA']], on='Date', suffixes=('_close', '_vol'), how='inner'\n",
    ").merge(\n",
    "    vix[['Date', 'S&P/B3 Ibovespa VIX']], on='Date', how='inner'\n",
    ").merge(\n",
    "    vol[['Date', 'ivolbr']], on='Date', how='inner'\n",
    ").merge(\n",
    "    sent[['Date', 'Signal']], on='Date', how='inner'\n",
    ")\n",
    "\n",
    "# Rename columns for clarity\n",
    "merged_df.rename(columns={\n",
    "    'BBAS3.SA_close': 'ibov_close',\n",
    "    'BBAS3.SA_vol': 'ibov_vol',\n",
    "    'S&P/B3 Ibovespa VIX': 'vix',\n",
    "    'ivolbr': 'vol',\n",
    "    'Signal': 'sent_score'\n",
    "}, inplace=True)\n",
    "\n",
    "print(merged_df.head())"
   ]
  }
 ],
 "metadata": {
  "kernelspec": {
   "display_name": "Python 3",
   "language": "python",
   "name": "python3"
  },
  "language_info": {
   "codemirror_mode": {
    "name": "ipython",
    "version": 3
   },
   "file_extension": ".py",
   "mimetype": "text/x-python",
   "name": "python",
   "nbconvert_exporter": "python",
   "pygments_lexer": "ipython3",
   "version": "3.10.11"
  }
 },
 "nbformat": 4,
 "nbformat_minor": 2
}
