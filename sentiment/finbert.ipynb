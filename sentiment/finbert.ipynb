{
 "cells": [
  {
   "cell_type": "code",
   "execution_count": null,
   "metadata": {},
   "outputs": [],
   "source": [
    "# !pip install transformers, tensorflow, torch"
   ]
  },
  {
   "cell_type": "code",
   "execution_count": 6,
   "metadata": {},
   "outputs": [],
   "source": [
    "import pandas as pd\n",
    "import warnings   \n",
    "from transformers import (\n",
    "    AutoTokenizer,\n",
    "    BertTokenizer, \n",
    "    BertForSequenceClassification,\n",
    "    pipeline,\n",
    ")\n",
    "warnings.filterwarnings(\"ignore\")\n",
    "pd.set_option('display.max_colwidth', None)"
   ]
  },
  {
   "cell_type": "code",
   "execution_count": 7,
   "metadata": {},
   "outputs": [],
   "source": [
    "finbert_pt_br_tokenizer = AutoTokenizer.from_pretrained(\"lucas-leme/FinBERT-PT-BR\")\n",
    "finbert_pt_br_model = BertForSequenceClassification.from_pretrained(\"lucas-leme/FinBERT-PT-BR\")\n",
    "\n",
    "finbert_pt_br_pipeline = pipeline(task='text-classification', model=finbert_pt_br_model, tokenizer=finbert_pt_br_tokenizer)"
   ]
  },
  {
   "cell_type": "code",
   "execution_count": 4,
   "metadata": {},
   "outputs": [
    {
     "data": {
      "application/vnd.jupyter.widget-view+json": {
       "model_id": "230ae1923b1045b98c1c03ce4e364a5c",
       "version_major": 2,
       "version_minor": 0
      },
      "text/plain": [
       "tokenizer_config.json:   0%|          | 0.00/252 [00:00<?, ?B/s]"
      ]
     },
     "metadata": {},
     "output_type": "display_data"
    },
    {
     "data": {
      "application/vnd.jupyter.widget-view+json": {
       "model_id": "6662dd5c788847cf9bb17df886b26a68",
       "version_major": 2,
       "version_minor": 0
      },
      "text/plain": [
       "vocab.txt:   0%|          | 0.00/232k [00:00<?, ?B/s]"
      ]
     },
     "metadata": {},
     "output_type": "display_data"
    },
    {
     "data": {
      "application/vnd.jupyter.widget-view+json": {
       "model_id": "5fde740545f5432e812bccc9bbe39fba",
       "version_major": 2,
       "version_minor": 0
      },
      "text/plain": [
       "special_tokens_map.json:   0%|          | 0.00/112 [00:00<?, ?B/s]"
      ]
     },
     "metadata": {},
     "output_type": "display_data"
    },
    {
     "data": {
      "application/vnd.jupyter.widget-view+json": {
       "model_id": "4316e4d068904613ab1cab745c13ecb5",
       "version_major": 2,
       "version_minor": 0
      },
      "text/plain": [
       "config.json:   0%|          | 0.00/758 [00:00<?, ?B/s]"
      ]
     },
     "metadata": {},
     "output_type": "display_data"
    },
    {
     "data": {
      "application/vnd.jupyter.widget-view+json": {
       "model_id": "2245052c6fd843b8b64d24ae051c5aba",
       "version_major": 2,
       "version_minor": 0
      },
      "text/plain": [
       "pytorch_model.bin:   0%|          | 0.00/438M [00:00<?, ?B/s]"
      ]
     },
     "metadata": {},
     "output_type": "display_data"
    },
    {
     "name": "stderr",
     "output_type": "stream",
     "text": [
      "Hardware accelerator e.g. GPU is available in the environment, but no `device` argument is passed to the `Pipeline` object. Model will be on CPU.\n"
     ]
    }
   ],
   "source": [
    "finbert_tokenizer = BertTokenizer.from_pretrained(\"ProsusAI/finbert\")\n",
    "finbert_model = BertForSequenceClassification.from_pretrained(\"ProsusAI/finbert\")\n",
    "\n",
    "finbert_pipeline = pipeline(task='text-classification', model=finbert_model, tokenizer=finbert_tokenizer)"
   ]
  },
  {
   "cell_type": "code",
   "execution_count": 6,
   "metadata": {},
   "outputs": [
    {
     "data": {
      "text/plain": [
       "['Dados de emprego nos EUA impulsionam dólar; Ibovespa fecha em queda',\n",
       " 'As ações campeãs para buscar dividendos em setembro, segundo 20 carteiras \\r\\nrecomendadas',\n",
       " 'Gestora passa a deter mais de 27 milhões de ações do Fleury (FLRY3) – Tempo \\r\\nReal – Estadão E-Investidor – As principais notícias do mercado financeiro',\n",
       " 'Estudantes de Medicina desenvolvem ações com crianças e adolescentes em \\r\\nmedidas socioeducativas e protetivas',\n",
       " 'Tendências 09/09/2024 | das principais ações da Bolsa']"
      ]
     },
     "execution_count": 6,
     "metadata": {},
     "output_type": "execute_result"
    }
   ],
   "source": [
    "acoes = pd.read_csv('../data/news/noticias_ações.csv')\n",
    "bolsa = pd.read_csv('../data/news/noticias_bolsa de valores.csv')\n",
    "ibovespa = pd.read_csv('../data/news/noticias_ibovespa.csv')\n",
    "mercado = pd.read_csv('../data/news/noticias_mercado financeiro.csv')\n",
    "\n",
    "news = pd.concat([acoes, bolsa, ibovespa, mercado], ignore_index=True)\n",
    "news['Data'] = pd.to_datetime(news['Data'], format='%Y-%m-%d')\n",
    "news.drop_duplicates(subset='Notícia', keep='first', inplace=True)\n",
    "news = news[~news['Notícia'].isin(mercado['Notícia'])]\n",
    "\n",
    "news_list = news['Notícia'].to_list()\n",
    "news_list[:5]"
   ]
  },
  {
   "cell_type": "code",
   "execution_count": 8,
   "metadata": {},
   "outputs": [
    {
     "data": {
      "text/html": [
       "<div>\n",
       "<style scoped>\n",
       "    .dataframe tbody tr th:only-of-type {\n",
       "        vertical-align: middle;\n",
       "    }\n",
       "\n",
       "    .dataframe tbody tr th {\n",
       "        vertical-align: top;\n",
       "    }\n",
       "\n",
       "    .dataframe thead th {\n",
       "        text-align: right;\n",
       "    }\n",
       "</style>\n",
       "<table border=\"1\" class=\"dataframe\">\n",
       "  <thead>\n",
       "    <tr style=\"text-align: right;\">\n",
       "      <th></th>\n",
       "      <th>label</th>\n",
       "      <th>score</th>\n",
       "    </tr>\n",
       "  </thead>\n",
       "  <tbody>\n",
       "    <tr>\n",
       "      <th>0</th>\n",
       "      <td>NEUTRAL</td>\n",
       "      <td>0.724056</td>\n",
       "    </tr>\n",
       "    <tr>\n",
       "      <th>1</th>\n",
       "      <td>NEUTRAL</td>\n",
       "      <td>0.700181</td>\n",
       "    </tr>\n",
       "    <tr>\n",
       "      <th>2</th>\n",
       "      <td>NEGATIVE</td>\n",
       "      <td>0.802989</td>\n",
       "    </tr>\n",
       "    <tr>\n",
       "      <th>3</th>\n",
       "      <td>NEGATIVE</td>\n",
       "      <td>0.572348</td>\n",
       "    </tr>\n",
       "    <tr>\n",
       "      <th>4</th>\n",
       "      <td>NEGATIVE</td>\n",
       "      <td>0.825039</td>\n",
       "    </tr>\n",
       "    <tr>\n",
       "      <th>...</th>\n",
       "      <td>...</td>\n",
       "      <td>...</td>\n",
       "    </tr>\n",
       "    <tr>\n",
       "      <th>8801</th>\n",
       "      <td>NEUTRAL</td>\n",
       "      <td>0.581989</td>\n",
       "    </tr>\n",
       "    <tr>\n",
       "      <th>8802</th>\n",
       "      <td>NEGATIVE</td>\n",
       "      <td>0.792354</td>\n",
       "    </tr>\n",
       "    <tr>\n",
       "      <th>8803</th>\n",
       "      <td>NEGATIVE</td>\n",
       "      <td>0.824638</td>\n",
       "    </tr>\n",
       "    <tr>\n",
       "      <th>8804</th>\n",
       "      <td>NEGATIVE</td>\n",
       "      <td>0.698795</td>\n",
       "    </tr>\n",
       "    <tr>\n",
       "      <th>8805</th>\n",
       "      <td>NEUTRAL</td>\n",
       "      <td>0.609815</td>\n",
       "    </tr>\n",
       "  </tbody>\n",
       "</table>\n",
       "<p>8806 rows × 2 columns</p>\n",
       "</div>"
      ],
      "text/plain": [
       "         label     score\n",
       "0      NEUTRAL  0.724056\n",
       "1      NEUTRAL  0.700181\n",
       "2     NEGATIVE  0.802989\n",
       "3     NEGATIVE  0.572348\n",
       "4     NEGATIVE  0.825039\n",
       "...        ...       ...\n",
       "8801   NEUTRAL  0.581989\n",
       "8802  NEGATIVE  0.792354\n",
       "8803  NEGATIVE  0.824638\n",
       "8804  NEGATIVE  0.698795\n",
       "8805   NEUTRAL  0.609815\n",
       "\n",
       "[8806 rows x 2 columns]"
      ]
     },
     "execution_count": 8,
     "metadata": {},
     "output_type": "execute_result"
    }
   ],
   "source": [
    "sentiments = pd.DataFrame(finbert_pt_br_pipeline(news_list))\n",
    "sentiments"
   ]
  },
  {
   "cell_type": "code",
   "execution_count": 8,
   "metadata": {},
   "outputs": [],
   "source": [
    "assert len(sentiments) == len(news), \"Sentiments and news must have the same length\"\n",
    "news['Sentimento'] = sentiments['label']\n",
    "news['Score'] = sentiments['score']\n",
    "\n",
    "\n",
    "mercado_sentimentos = pd.read_csv('../data/news/noticias_mercado financeiro_sentimentos.csv')\n",
    "mercado_sentimentos['Data'] = pd.to_datetime(mercado_sentimentos['Data'], format='%Y-%m-%d')\n",
    "sentimentos = pd.concat([mercado_sentimentos, news], ignore_index=True)\n",
    "sentimentos.to_csv('../data/news/noticias_sentimentos.csv', index=False)"
   ]
  },
  {
   "cell_type": "code",
   "execution_count": 18,
   "metadata": {},
   "outputs": [
    {
     "data": {
      "text/html": [
       "<div>\n",
       "<style scoped>\n",
       "    .dataframe tbody tr th:only-of-type {\n",
       "        vertical-align: middle;\n",
       "    }\n",
       "\n",
       "    .dataframe tbody tr th {\n",
       "        vertical-align: top;\n",
       "    }\n",
       "\n",
       "    .dataframe thead th {\n",
       "        text-align: right;\n",
       "    }\n",
       "</style>\n",
       "<table border=\"1\" class=\"dataframe\">\n",
       "  <thead>\n",
       "    <tr style=\"text-align: right;\">\n",
       "      <th></th>\n",
       "      <th>label</th>\n",
       "      <th>score</th>\n",
       "      <th>news</th>\n",
       "    </tr>\n",
       "  </thead>\n",
       "  <tbody>\n",
       "    <tr>\n",
       "      <th>0</th>\n",
       "      <td>positive</td>\n",
       "      <td>0.766157</td>\n",
       "      <td>Unipar e MELVER estão com inscrições abertas para MBA em Mercado Financeiro</td>\n",
       "    </tr>\n",
       "    <tr>\n",
       "      <th>1</th>\n",
       "      <td>positive</td>\n",
       "      <td>0.625554</td>\n",
       "      <td>Mercado financeiro hoje: Vale (VALE3) em busca de parceiro, Azul (AZUL4) em \\napuros e acordo da Weg (WEGE3) de R$ 630 milhões – Mercado – Estadão \\nE-Investidor – As principais notícias do mercado financeiro</td>\n",
       "    </tr>\n",
       "    <tr>\n",
       "      <th>2</th>\n",
       "      <td>neutral</td>\n",
       "      <td>0.848194</td>\n",
       "      <td>Briga entre X e STF pode afastar investidores do Brasil? Especialistas \\ndivergem</td>\n",
       "    </tr>\n",
       "    <tr>\n",
       "      <th>3</th>\n",
       "      <td>neutral</td>\n",
       "      <td>0.947857</td>\n",
       "      <td>Podcast | Fechamento de Mercado - 03/09/2024</td>\n",
       "    </tr>\n",
       "    <tr>\n",
       "      <th>4</th>\n",
       "      <td>neutral</td>\n",
       "      <td>0.935288</td>\n",
       "      <td>Comentario semanal - Perspectivas</td>\n",
       "    </tr>\n",
       "    <tr>\n",
       "      <th>5</th>\n",
       "      <td>neutral</td>\n",
       "      <td>0.865317</td>\n",
       "      <td>Apagão cibernético global causa tensão no mercado financeiro</td>\n",
       "    </tr>\n",
       "    <tr>\n",
       "      <th>6</th>\n",
       "      <td>positive</td>\n",
       "      <td>0.652962</td>\n",
       "      <td>Confira dez tendências que o mercado financeiro deve incorporar nos \\npróximos anos</td>\n",
       "    </tr>\n",
       "    <tr>\n",
       "      <th>7</th>\n",
       "      <td>neutral</td>\n",
       "      <td>0.850085</td>\n",
       "      <td>Mercados financeiros hoje: tom negativo em NY marca volta de feriado</td>\n",
       "    </tr>\n",
       "    <tr>\n",
       "      <th>8</th>\n",
       "      <td>positive</td>\n",
       "      <td>0.770710</td>\n",
       "      <td>Políticas do governo federal fazem PIB crescer acima do esperado e rumar \\npara 3% ao final do ano</td>\n",
       "    </tr>\n",
       "    <tr>\n",
       "      <th>9</th>\n",
       "      <td>positive</td>\n",
       "      <td>0.570883</td>\n",
       "      <td>Setor financeiro ganha destaque nas indicações de ações para setembro</td>\n",
       "    </tr>\n",
       "  </tbody>\n",
       "</table>\n",
       "</div>"
      ],
      "text/plain": [
       "      label     score  \\\n",
       "0  positive  0.766157   \n",
       "1  positive  0.625554   \n",
       "2   neutral  0.848194   \n",
       "3   neutral  0.947857   \n",
       "4   neutral  0.935288   \n",
       "5   neutral  0.865317   \n",
       "6  positive  0.652962   \n",
       "7   neutral  0.850085   \n",
       "8  positive  0.770710   \n",
       "9  positive  0.570883   \n",
       "\n",
       "                                                                                                                                                                                                               news  \n",
       "0                                                                                                                                       Unipar e MELVER estão com inscrições abertas para MBA em Mercado Financeiro  \n",
       "1  Mercado financeiro hoje: Vale (VALE3) em busca de parceiro, Azul (AZUL4) em \\napuros e acordo da Weg (WEGE3) de R$ 630 milhões – Mercado – Estadão \\nE-Investidor – As principais notícias do mercado financeiro  \n",
       "2                                                                                                                                 Briga entre X e STF pode afastar investidores do Brasil? Especialistas \\ndivergem  \n",
       "3                                                                                                                                                                      Podcast | Fechamento de Mercado - 03/09/2024  \n",
       "4                                                                                                                                                                                 Comentario semanal - Perspectivas  \n",
       "5                                                                                                                                                      Apagão cibernético global causa tensão no mercado financeiro  \n",
       "6                                                                                                                               Confira dez tendências que o mercado financeiro deve incorporar nos \\npróximos anos  \n",
       "7                                                                                                                                              Mercados financeiros hoje: tom negativo em NY marca volta de feriado  \n",
       "8                                                                                                                Políticas do governo federal fazem PIB crescer acima do esperado e rumar \\npara 3% ao final do ano  \n",
       "9                                                                                                                                             Setor financeiro ganha destaque nas indicações de ações para setembro  "
      ]
     },
     "metadata": {},
     "output_type": "display_data"
    },
    {
     "data": {
      "text/html": [
       "<div>\n",
       "<style scoped>\n",
       "    .dataframe tbody tr th:only-of-type {\n",
       "        vertical-align: middle;\n",
       "    }\n",
       "\n",
       "    .dataframe tbody tr th {\n",
       "        vertical-align: top;\n",
       "    }\n",
       "\n",
       "    .dataframe thead th {\n",
       "        text-align: right;\n",
       "    }\n",
       "</style>\n",
       "<table border=\"1\" class=\"dataframe\">\n",
       "  <thead>\n",
       "    <tr style=\"text-align: right;\">\n",
       "      <th></th>\n",
       "      <th>label</th>\n",
       "      <th>score</th>\n",
       "      <th>news</th>\n",
       "    </tr>\n",
       "  </thead>\n",
       "  <tbody>\n",
       "    <tr>\n",
       "      <th>0</th>\n",
       "      <td>NEUTRAL</td>\n",
       "      <td>0.700441</td>\n",
       "      <td>Unipar e MELVER estão com inscrições abertas para MBA em Mercado Financeiro</td>\n",
       "    </tr>\n",
       "    <tr>\n",
       "      <th>1</th>\n",
       "      <td>NEGATIVE</td>\n",
       "      <td>0.515265</td>\n",
       "      <td>Mercado financeiro hoje: Vale (VALE3) em busca de parceiro, Azul (AZUL4) em \\napuros e acordo da Weg (WEGE3) de R$ 630 milhões – Mercado – Estadão \\nE-Investidor – As principais notícias do mercado financeiro</td>\n",
       "    </tr>\n",
       "    <tr>\n",
       "      <th>2</th>\n",
       "      <td>NEGATIVE</td>\n",
       "      <td>0.850306</td>\n",
       "      <td>Briga entre X e STF pode afastar investidores do Brasil? Especialistas \\ndivergem</td>\n",
       "    </tr>\n",
       "    <tr>\n",
       "      <th>3</th>\n",
       "      <td>NEUTRAL</td>\n",
       "      <td>0.614209</td>\n",
       "      <td>Podcast | Fechamento de Mercado - 03/09/2024</td>\n",
       "    </tr>\n",
       "    <tr>\n",
       "      <th>4</th>\n",
       "      <td>NEUTRAL</td>\n",
       "      <td>0.610426</td>\n",
       "      <td>Comentario semanal - Perspectivas</td>\n",
       "    </tr>\n",
       "    <tr>\n",
       "      <th>5</th>\n",
       "      <td>NEGATIVE</td>\n",
       "      <td>0.848840</td>\n",
       "      <td>Apagão cibernético global causa tensão no mercado financeiro</td>\n",
       "    </tr>\n",
       "    <tr>\n",
       "      <th>6</th>\n",
       "      <td>NEUTRAL</td>\n",
       "      <td>0.725723</td>\n",
       "      <td>Confira dez tendências que o mercado financeiro deve incorporar nos \\npróximos anos</td>\n",
       "    </tr>\n",
       "    <tr>\n",
       "      <th>7</th>\n",
       "      <td>NEGATIVE</td>\n",
       "      <td>0.821666</td>\n",
       "      <td>Mercados financeiros hoje: tom negativo em NY marca volta de feriado</td>\n",
       "    </tr>\n",
       "    <tr>\n",
       "      <th>8</th>\n",
       "      <td>NEGATIVE</td>\n",
       "      <td>0.554580</td>\n",
       "      <td>Políticas do governo federal fazem PIB crescer acima do esperado e rumar \\npara 3% ao final do ano</td>\n",
       "    </tr>\n",
       "    <tr>\n",
       "      <th>9</th>\n",
       "      <td>POSITIVE</td>\n",
       "      <td>0.519682</td>\n",
       "      <td>Setor financeiro ganha destaque nas indicações de ações para setembro</td>\n",
       "    </tr>\n",
       "  </tbody>\n",
       "</table>\n",
       "</div>"
      ],
      "text/plain": [
       "      label     score  \\\n",
       "0   NEUTRAL  0.700441   \n",
       "1  NEGATIVE  0.515265   \n",
       "2  NEGATIVE  0.850306   \n",
       "3   NEUTRAL  0.614209   \n",
       "4   NEUTRAL  0.610426   \n",
       "5  NEGATIVE  0.848840   \n",
       "6   NEUTRAL  0.725723   \n",
       "7  NEGATIVE  0.821666   \n",
       "8  NEGATIVE  0.554580   \n",
       "9  POSITIVE  0.519682   \n",
       "\n",
       "                                                                                                                                                                                                               news  \n",
       "0                                                                                                                                       Unipar e MELVER estão com inscrições abertas para MBA em Mercado Financeiro  \n",
       "1  Mercado financeiro hoje: Vale (VALE3) em busca de parceiro, Azul (AZUL4) em \\napuros e acordo da Weg (WEGE3) de R$ 630 milhões – Mercado – Estadão \\nE-Investidor – As principais notícias do mercado financeiro  \n",
       "2                                                                                                                                 Briga entre X e STF pode afastar investidores do Brasil? Especialistas \\ndivergem  \n",
       "3                                                                                                                                                                      Podcast | Fechamento de Mercado - 03/09/2024  \n",
       "4                                                                                                                                                                                 Comentario semanal - Perspectivas  \n",
       "5                                                                                                                                                      Apagão cibernético global causa tensão no mercado financeiro  \n",
       "6                                                                                                                               Confira dez tendências que o mercado financeiro deve incorporar nos \\npróximos anos  \n",
       "7                                                                                                                                              Mercados financeiros hoje: tom negativo em NY marca volta de feriado  \n",
       "8                                                                                                                Políticas do governo federal fazem PIB crescer acima do esperado e rumar \\npara 3% ao final do ano  \n",
       "9                                                                                                                                             Setor financeiro ganha destaque nas indicações de ações para setembro  "
      ]
     },
     "metadata": {},
     "output_type": "display_data"
    }
   ],
   "source": [
    "# Comparação FinBERT vs FinBERT-PT-BR\n",
    "\n",
    "# FinBERT\n",
    "finbert_outputs = pd.DataFrame(finbert_pipeline(news_list[:10]))\n",
    "finbert_outputs['news'] = news_list[:10]\n",
    "\n",
    "# FinBER-PT-BR\n",
    "finbert_pt_br_outputs = pd.DataFrame(finbert_pt_br_pipeline(news_list[:10]))\n",
    "finbert_pt_br_outputs['news'] = news_list[:10]\n",
    "\n",
    "# Exibindo resultados\n",
    "display(\n",
    "    finbert_outputs,\n",
    "    finbert_pt_br_outputs,\n",
    ")"
   ]
  }
 ],
 "metadata": {
  "kernelspec": {
   "display_name": "Python 3",
   "language": "python",
   "name": "python3"
  },
  "language_info": {
   "codemirror_mode": {
    "name": "ipython",
    "version": 3
   },
   "file_extension": ".py",
   "mimetype": "text/x-python",
   "name": "python",
   "nbconvert_exporter": "python",
   "pygments_lexer": "ipython3",
   "version": "3.12.0"
  }
 },
 "nbformat": 4,
 "nbformat_minor": 2
}
