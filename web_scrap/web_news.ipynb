{
 "cells": [
  {
   "cell_type": "code",
   "execution_count": 1,
   "metadata": {},
   "outputs": [],
   "source": [
    "from selenium import webdriver\n",
    "from selenium.webdriver.chrome.options import Options\n",
    "from selenium.webdriver.common.by import By\n",
    "from selenium.webdriver.support.ui import WebDriverWait\n",
    "from selenium.webdriver.support import expected_conditions as EC\n",
    "from bs4 import BeautifulSoup\n",
    "import pandas as pd\n",
    "import datetime as dt\n",
    "from fake_useragent import UserAgent\n",
    "from tqdm.notebook import tqdm\n",
    "import time\n",
    "\n",
    "def configure_webdriver():\n",
    "    # Configurações do WebDriver com agente de usuário aleatório\n",
    "    chrome_options = Options()\n",
    "    chrome_options.add_argument('--headless')\n",
    "    chrome_options.add_argument('--disable-gpu')\n",
    "    chrome_options.add_argument('--no-sandbox')\n",
    "    \n",
    "    # Gera um agente de usuário aleatório usando o fake-useragent\n",
    "    user_agent = UserAgent().random\n",
    "    chrome_options.add_argument(f'user-agent={user_agent}')\n",
    "    \n",
    "    # Inicializa o WebDriver\n",
    "    return webdriver.Chrome(options=chrome_options)\n",
    "\n",
    "def fetch_news_for_date(web, pesquisa, data):\n",
    "    url = f'https://www.google.com/search?q={pesquisa}&sca_esv=8a38f1b162d79def&rlz=1C1CHBD_pt-PTBR1080BR1080&tbs=cdr:1,cd_min:{data},cd_max:{data},lr:lang_1pt&tbm=nws&source=lnt&lr=lang_pt&sa=X&ved=2ahUKEwjy8NbRxaqIAxVJpZUCHVnpHTgQpwV6BAgCEAc&biw=1536&bih=738&dpr=1.25'\n",
    "    \n",
    "    web.get(url)\n",
    "    \n",
    "    # Espera o carregamento completo da página\n",
    "    WebDriverWait(web, 10).until(\n",
    "        EC.presence_of_element_located((By.CSS_SELECTOR, 'div.n0jPhd.ynAwRc.MBeuO.nDgy9d'))\n",
    "    )\n",
    "    \n",
    "    soup = BeautifulSoup(web.page_source, 'html.parser')\n",
    "    \n",
    "    # Ajuste aqui dependendo do HTML atual\n",
    "    news = soup.find_all('div', class_='n0jPhd ynAwRc MBeuO nDgy9d')\n",
    "    \n",
    "    return [{'Data': data, 'Notícia': new.text} for new in news]\n",
    "\n",
    "def get_news(pesquisa, dia=None, quant_dias=5, dias=None):\n",
    "    if dia is None:\n",
    "        dia = dt.datetime.now()\n",
    "    pesquisa = pesquisa.replace(' ', '+')\n",
    "    \n",
    "    web = configure_webdriver()\n",
    "    dados = []\n",
    "    datas_ruins = []\n",
    "\n",
    "    try:\n",
    "        # Gera a lista de datas se não for fornecida\n",
    "        if dias is None:\n",
    "            dias = [(dia - dt.timedelta(days=i)).strftime('%m/%d/%Y') for i in range(1, quant_dias + 1)]\n",
    "        \n",
    "        with tqdm(total=len(dias), desc=\"Progresso\", leave=True) as pbar:\n",
    "            for passado in dias:\n",
    "                try:\n",
    "                    noticias = fetch_news_for_date(web, pesquisa, passado)\n",
    "                    dados.extend(noticias)\n",
    "                except Exception as e:\n",
    "                    datas_ruins.append(passado)\n",
    "                    print(f'Erro ao processar a data {passado}: {e}')\n",
    "                \n",
    "                pbar.update(1)\n",
    "                \n",
    "                # Adiciona um delay aleatório para evitar ser bloqueado pelo Google\n",
    "                time.sleep(2)\n",
    "    finally:\n",
    "        web.quit()\n",
    "    \n",
    "    # Converte a lista para DataFrame\n",
    "    return pd.DataFrame(dados), datas_ruins"
   ]
  },
  {
   "cell_type": "code",
   "execution_count": 2,
   "metadata": {},
   "outputs": [
    {
     "data": {
      "application/vnd.jupyter.widget-view+json": {
       "model_id": "667307ea002043cda63a0e32500f3619",
       "version_major": 2,
       "version_minor": 0
      },
      "text/plain": [
       "Progresso:   0%|          | 0/6 [00:00<?, ?it/s]"
      ]
     },
     "metadata": {},
     "output_type": "display_data"
    },
    {
     "name": "stdout",
     "output_type": "stream",
     "text": [
      "Dados salvos em ../data/news/noticias_bolsa de valores.csv\n"
     ]
    },
    {
     "data": {
      "application/vnd.jupyter.widget-view+json": {
       "model_id": "3a7226d18fb643849aa628e1099883f4",
       "version_major": 2,
       "version_minor": 0
      },
      "text/plain": [
       "Progresso:   0%|          | 0/6 [00:00<?, ?it/s]"
      ]
     },
     "metadata": {},
     "output_type": "display_data"
    },
    {
     "name": "stdout",
     "output_type": "stream",
     "text": [
      "Dados salvos em ../data/news/noticias_ibovespa.csv\n"
     ]
    },
    {
     "data": {
      "application/vnd.jupyter.widget-view+json": {
       "model_id": "3ea9b4bea0c24a7cbea95f9e287d967b",
       "version_major": 2,
       "version_minor": 0
      },
      "text/plain": [
       "Progresso:   0%|          | 0/6 [00:00<?, ?it/s]"
      ]
     },
     "metadata": {},
     "output_type": "display_data"
    },
    {
     "name": "stdout",
     "output_type": "stream",
     "text": [
      "Dados salvos em ../data/news/noticias_ações.csv\n"
     ]
    },
    {
     "data": {
      "application/vnd.jupyter.widget-view+json": {
       "model_id": "4853a43999554a0994f4869679d38d03",
       "version_major": 2,
       "version_minor": 0
      },
      "text/plain": [
       "Progresso:   0%|          | 0/6 [00:00<?, ?it/s]"
      ]
     },
     "metadata": {},
     "output_type": "display_data"
    },
    {
     "name": "stdout",
     "output_type": "stream",
     "text": [
      "Dados salvos em ../data/news/noticias_mercado financeiro.csv\n"
     ]
    }
   ],
   "source": [
    "lista = ['b3']\n",
    "dfs = []\n",
    "for pesquisa in lista:\n",
    "    df, datas = get_news(pesquisa, quant_dias=6)\n",
    "    df['Data'] = pd.to_datetime(df['Data'])\n",
    "    dfs.append(df)\n",
    "    print(f'Dados salvos em ../data/news/noticias_{pesquisa}.csv')"
   ]
  },
  {
   "cell_type": "code",
   "execution_count": 3,
   "metadata": {},
   "outputs": [],
   "source": [
    "import pandas as pd\n",
    "\n",
    "news = pd.read_csv('../data/news/noticias_sentimentos.csv')"
   ]
  },
  {
   "cell_type": "code",
   "execution_count": 8,
   "metadata": {},
   "outputs": [],
   "source": [
    "dfzao = pd.concat(dfs)\n",
    "dfzao.drop_duplicates(inplace=True)"
   ]
  },
  {
   "cell_type": "code",
   "execution_count": 10,
   "metadata": {},
   "outputs": [],
   "source": [
    "dfzao.to_csv('../data/news/noticias_atuais.csv', index=False)"
   ]
  }
 ],
 "metadata": {
  "kernelspec": {
   "display_name": "Python 3",
   "language": "python",
   "name": "python3"
  },
  "language_info": {
   "codemirror_mode": {
    "name": "ipython",
    "version": 3
   },
   "file_extension": ".py",
   "mimetype": "text/x-python",
   "name": "python",
   "nbconvert_exporter": "python",
   "pygments_lexer": "ipython3",
   "version": "3.12.0"
  }
 },
 "nbformat": 4,
 "nbformat_minor": 2
}
